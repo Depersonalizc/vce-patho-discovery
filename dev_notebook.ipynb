{
  "nbformat": 4,
  "nbformat_minor": 0,
  "metadata": {
    "colab": {
      "name": "dev_notebook.ipynb",
      "provenance": [],
      "collapsed_sections": [],
      "machine_shape": "hm",
      "authorship_tag": "ABX9TyOEM8OlP0ADcPOW/u8BFyAb",
      "include_colab_link": true
    },
    "kernelspec": {
      "name": "python3",
      "display_name": "Python 3"
    },
    "language_info": {
      "name": "python"
    },
    "accelerator": "GPU"
  },
  "cells": [
    {
      "cell_type": "markdown",
      "metadata": {
        "id": "view-in-github",
        "colab_type": "text"
      },
      "source": [
        "<a href=\"https://colab.research.google.com/github/Depersonalizc/vce-patho-discovery/blob/main/dev_notebook.ipynb\" target=\"_parent\"><img src=\"https://colab.research.google.com/assets/colab-badge.svg\" alt=\"Open In Colab\"/></a>"
      ]
    },
    {
      "cell_type": "code",
      "execution_count": 1,
      "metadata": {
        "id": "00KwwHtwZDkh",
        "colab": {
          "base_uri": "https://localhost:8080/"
        },
        "outputId": "9f100a45-8f08-4b95-c470-f529c4216e47"
      },
      "outputs": [
        {
          "output_type": "stream",
          "name": "stdout",
          "text": [
            "Mounted at /content/gdrive\n"
          ]
        }
      ],
      "source": [
        "from google.colab import drive\n",
        "drive.mount('/content/gdrive', force_remount=False)"
      ]
    },
    {
      "cell_type": "code",
      "source": [
        "!git clone https://github.com/Depersonalizc/vce-patho-discovery.git\n",
        "\n",
        "%load_ext autoreload\n",
        "%autoreload 2\n",
        "\n",
        "import sys\n",
        "sys.path.append('/content/vce-patho-discovery')"
      ],
      "metadata": {
        "colab": {
          "base_uri": "https://localhost:8080/"
        },
        "id": "YNTkoR72yYDU",
        "outputId": "12681e0d-7e24-4d9f-97e1-222cdfeee177"
      },
      "execution_count": 2,
      "outputs": [
        {
          "output_type": "stream",
          "name": "stdout",
          "text": [
            "Cloning into 'vce-patho-discovery'...\n",
            "remote: Enumerating objects: 20, done.\u001b[K\n",
            "remote: Counting objects: 100% (20/20), done.\u001b[K\n",
            "remote: Compressing objects: 100% (17/17), done.\u001b[K\n",
            "remote: Total 20 (delta 3), reused 8 (delta 0), pack-reused 0\u001b[K\n",
            "Unpacking objects: 100% (20/20), done.\n"
          ]
        }
      ]
    },
    {
      "cell_type": "code",
      "source": [
        "# !cp -r /content/gdrive/MyDrive/data/kvasir_capsule/ /content/\n",
        "!cp -r /content/gdrive/MyDrive/data/kvasir_capsule/labelled_images /content/kvasir_capsule/\n",
        "!cp -r /content/gdrive/MyDrive/data/kvasir_capsule/metadata.csv /content/kvasir_capsule/"
      ],
      "metadata": {
        "colab": {
          "base_uri": "https://localhost:8080/"
        },
        "id": "YusjNT_Wb5Bi",
        "outputId": "0b02d270-685a-4447-8041-38895e1cceed"
      },
      "execution_count": null,
      "outputs": [
        {
          "output_type": "stream",
          "name": "stdout",
          "text": [
            "^C\n"
          ]
        }
      ]
    },
    {
      "cell_type": "code",
      "source": [
        "# !cp -r /content/gdrive/Shareddrives/c012-153/data/kvasir_capsule/ /content/\n",
        "!cp -r /content/gdrive/Shareddrives/c012-153/data/kvasir_capsule/labelled_images /content/kvasir_capsule/\n",
        "!cp -r /content/gdrive/Shareddrives/c012-153/data/kvasir_capsule/metadata.csv /content/kvasir_capsule/"
      ],
      "metadata": {
        "id": "i57hOm68eJTc"
      },
      "execution_count": 4,
      "outputs": []
    },
    {
      "cell_type": "code",
      "source": [
        "%cd kvasir_capsule/\n",
        "!tar xzvf stills_flat.tar.gz\n",
        "%cd /content"
      ],
      "metadata": {
        "id": "e_LMIwso6bJW"
      },
      "execution_count": null,
      "outputs": []
    },
    {
      "cell_type": "code",
      "source": [
        "from data.dataset import *"
      ],
      "metadata": {
        "id": "e9xNQpiByNcs"
      },
      "execution_count": null,
      "outputs": []
    },
    {
      "cell_type": "code",
      "source": [
        "dset = KvasirCapsuleBinary(\n",
        "    images_dir='/content/kvasir_capsule/labelled_images/stills',\n",
        "    metadata_dir='/content/kvasir_capsule/metadata.csv', \n",
        "    fold=0)"
      ],
      "metadata": {
        "colab": {
          "base_uri": "https://localhost:8080/"
        },
        "id": "L6QV1i4Fyr5c",
        "outputId": "510cfd2a-b38b-49b1-8198-ee76791db20d"
      },
      "execution_count": null,
      "outputs": [
        {
          "output_type": "stream",
          "name": "stderr",
          "text": [
            "23420it [00:39, 595.77it/s]\n"
          ]
        }
      ]
    },
    {
      "cell_type": "code",
      "source": [
        "dloader = DataLoader(dset, batch_size=32, \n",
        "                     sampler=get_weighted_sampler(dset.labels))"
      ],
      "metadata": {
        "id": "2m__zGFH-Mhf"
      },
      "execution_count": null,
      "outputs": []
    },
    {
      "cell_type": "code",
      "source": [
        ""
      ],
      "metadata": {
        "id": "1e8VLcxv4Z1r"
      },
      "execution_count": null,
      "outputs": []
    },
    {
      "cell_type": "code",
      "source": [
        ""
      ],
      "metadata": {
        "id": "pejQBR1s4Z4k"
      },
      "execution_count": null,
      "outputs": []
    },
    {
      "cell_type": "code",
      "source": [
        ""
      ],
      "metadata": {
        "id": "3X4yAPjO4Z8C"
      },
      "execution_count": null,
      "outputs": []
    },
    {
      "cell_type": "code",
      "source": [
        "%cd /content/vce-patho-discovery/\n",
        "\n",
        "!git config --global user.email \"1046770165@qq.com\"\n",
        "!git config --global user.name \"Depersonalizc\"\n",
        "!git remote set-url origin 'token@github.com/Depersonalizc/vce-patho-discovery.git'\n",
        "\n",
        "!git add .\n",
        "!git status\n",
        "!git commit -m 'init project'"
      ],
      "metadata": {
        "colab": {
          "base_uri": "https://localhost:8080/"
        },
        "id": "Mu8I-1K10-nV",
        "outputId": "c707e063-4381-4ea6-ca5f-d9b766a43439"
      },
      "execution_count": null,
      "outputs": [
        {
          "output_type": "stream",
          "name": "stdout",
          "text": [
            "/content/vce-patho-discovery\n",
            "On branch main\n",
            "Your branch is up to date with 'origin/main'.\n",
            "\n",
            "Changes to be committed:\n",
            "  (use \"git reset HEAD <file>...\" to unstage)\n",
            "\n",
            "\t\u001b[32mnew file:   data/__init__.py\u001b[m\n",
            "\t\u001b[32mnew file:   data/dataset.py\u001b[m\n",
            "\t\u001b[32mnew file:   models/__init__.py\u001b[m\n",
            "\t\u001b[32mnew file:   models/binary.py\u001b[m\n",
            "\t\u001b[32mnew file:   utils/__init__.py\u001b[m\n",
            "\t\u001b[32mnew file:   utils/utils.py\u001b[m\n",
            "\n",
            "[main cd30b79] init project\n",
            " 6 files changed, 104 insertions(+)\n",
            " create mode 100644 data/__init__.py\n",
            " create mode 100644 data/dataset.py\n",
            " create mode 100644 models/__init__.py\n",
            " create mode 100644 models/binary.py\n",
            " create mode 100644 utils/__init__.py\n",
            " create mode 100644 utils/utils.py\n"
          ]
        }
      ]
    },
    {
      "cell_type": "code",
      "source": [
        "!git push"
      ],
      "metadata": {
        "colab": {
          "base_uri": "https://localhost:8080/"
        },
        "id": "eussrIvg29oh",
        "outputId": "05dc1c63-3bf0-4ee1-cfdf-40c0fc75e5d6"
      },
      "execution_count": null,
      "outputs": [
        {
          "output_type": "stream",
          "name": "stdout",
          "text": [
            "Counting objects: 9, done.\n",
            "Delta compression using up to 4 threads.\n",
            "Compressing objects:  12% (1/8)   \rCompressing objects:  25% (2/8)   \rCompressing objects:  37% (3/8)   \rCompressing objects:  50% (4/8)   \rCompressing objects:  62% (5/8)   \rCompressing objects:  75% (6/8)   \rCompressing objects:  87% (7/8)   \rCompressing objects: 100% (8/8)   \rCompressing objects: 100% (8/8), done.\n",
            "Writing objects:  11% (1/9)   \rWriting objects:  22% (2/9)   \rWriting objects:  33% (3/9)   \rWriting objects:  44% (4/9)   \rWriting objects:  55% (5/9)   \rWriting objects:  66% (6/9)   \rWriting objects:  77% (7/9)   \rWriting objects:  88% (8/9)   \rWriting objects: 100% (9/9)   \rWriting objects: 100% (9/9), 1.97 KiB | 1.97 MiB/s, done.\n",
            "Total 9 (delta 0), reused 0 (delta 0)\n",
            "To https://github.com/Depersonalizc/vce-patho-discovery.git\n",
            "   fd9c9ab..cd30b79  main -> main\n"
          ]
        }
      ]
    },
    {
      "cell_type": "code",
      "source": [
        ""
      ],
      "metadata": {
        "id": "1WKeJsz_3HN4"
      },
      "execution_count": null,
      "outputs": []
    }
  ]
}